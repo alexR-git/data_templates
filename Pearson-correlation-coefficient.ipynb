{
 "cells": [
  {
   "cell_type": "markdown",
   "id": "70507757",
   "metadata": {},
   "source": [
    "### Función para el cáculo del coeficiente de correlación de Pearson"
   ]
  },
  {
   "cell_type": "code",
   "execution_count": 11,
   "id": "6ed36ddd",
   "metadata": {},
   "outputs": [],
   "source": [
    "import pandas as pd\n",
    "import numpy as np"
   ]
  },
  {
   "cell_type": "code",
   "execution_count": 12,
   "id": "edc7515d",
   "metadata": {},
   "outputs": [],
   "source": [
    "# donde 'data' es un pandas dataframe\n",
    "def pearson_ccoef(data, x, y):\n",
    "\n",
    "    # Cálculo de la distancia de xi con respecto a su promedio\n",
    "    dist_x = data[x] - np.mean(data[x])\n",
    "\n",
    "    # Cálculo de la distancia de yi con respecto a su promedio\n",
    "    dist_y = data[y] - np.mean(data[y])\n",
    "\n",
    "    # Cálculo del numerador del coef. de correlación de Pearson\n",
    "    num = sum(dist_x * dist_y)\n",
    "    \n",
    "    # Cálculo del denominador del coef. de correlación de Pearson\n",
    "    den = np.sqrt(sum(((dist_x)**2) * sum((dist_y)**2)))\n",
    "    \n",
    "    # Cálculo del coef. de correlación de Pearson\n",
    "    pearson_ccoefficient = num/den\n",
    "    \n",
    "    return pearson_ccoefficient"
   ]
  }
 ],
 "metadata": {
  "kernelspec": {
   "display_name": "Python 3",
   "language": "python",
   "name": "python3"
  },
  "language_info": {
   "codemirror_mode": {
    "name": "ipython",
    "version": 3
   },
   "file_extension": ".py",
   "mimetype": "text/x-python",
   "name": "python",
   "nbconvert_exporter": "python",
   "pygments_lexer": "ipython3",
   "version": "3.9.6"
  }
 },
 "nbformat": 4,
 "nbformat_minor": 5
}
