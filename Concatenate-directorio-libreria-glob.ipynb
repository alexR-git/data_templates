{
 "cells": [
  {
   "cell_type": "markdown",
   "id": "f283a7c9",
   "metadata": {},
   "source": [
    "# Concatenado mediante la librería glob\n",
    "\n",
    "Concatenado de datasets ubicados en un directorio con nombres no necesariamente consecutivos y en archivos de cualquier tipo.\n",
    "\n",
    "Método glob:\n",
    "\n",
    "    glob.glob(pathname, *, recursive=False)\n",
    "    \n",
    "    Return a possibly-empty list of path names that match pathname, which must be a string containing a path specification. pathname can be either absolute (like /usr/src/Python-1.5/Makefile) or relative (like ../../Tools/*/*.gif), and can contain shell-style wildcards. Broken symlinks are included in the results (as in the shell). Whether or not the results are sorted depends on the file system. If a file that satisfies conditions is removed or added during the call of this function, whether a path name for that file be included is unspecified. \n",
    "    \n",
    "    If recursive is true, the pattern “**” will match any files and zero or more directories, subdirectories and symbolic links to directories. If the pattern is followed by an os.sep or os.altsep then files will not match."
   ]
  },
  {
   "cell_type": "code",
   "execution_count": null,
   "id": "ec5d69c9",
   "metadata": {},
   "outputs": [],
   "source": [
    "import pandas as pd\n",
    "import glob"
   ]
  },
  {
   "cell_type": "markdown",
   "id": "37095bb5",
   "metadata": {},
   "source": [
    "    list.pop(index)\n",
    "    The pop() method removes the item at the given index from the list and returns the removed item."
   ]
  },
  {
   "cell_type": "code",
   "execution_count": null,
   "id": "c83cab95",
   "metadata": {},
   "outputs": [],
   "source": [
    "# Obtiene las rutas de todos los archivos del directorio en formato lista de strings\n",
    "files = glob.glob('..\\\\git\\\\python-ml-course\\\\datasets\\\\distributed-data\\\\*.csv')\n",
    "# Retorna la primera componente de la lista y la elimina\n",
    "data = pd.read_csv(files.pop(0))"
   ]
  },
  {
   "cell_type": "code",
   "execution_count": null,
   "id": "6592e0af",
   "metadata": {},
   "outputs": [],
   "source": [
    "for file in files:\n",
    "    data_temp = pd.read_csv(file)\n",
    "    data = pd.concat([data, data_temp], axis=0)"
   ]
  },
  {
   "cell_type": "code",
   "execution_count": null,
   "id": "4a57bf54",
   "metadata": {},
   "outputs": [],
   "source": [
    "# Comprobación de la estructura del dataset\n",
    "data.shape"
   ]
  },
  {
   "cell_type": "code",
   "execution_count": null,
   "id": "2a998db8",
   "metadata": {},
   "outputs": [],
   "source": [
    "# Comprobación de la cabecera del dataset\n",
    "data.head()"
   ]
  },
  {
   "cell_type": "code",
   "execution_count": null,
   "id": "c1e967e1",
   "metadata": {},
   "outputs": [],
   "source": [
    "# Comprobación de la cola del dataset\n",
    "data.tail()"
   ]
  }
 ],
 "metadata": {
  "kernelspec": {
   "display_name": "Python 3",
   "language": "python",
   "name": "python3"
  },
  "language_info": {
   "codemirror_mode": {
    "name": "ipython",
    "version": 3
   },
   "file_extension": ".py",
   "mimetype": "text/x-python",
   "name": "python",
   "nbconvert_exporter": "python",
   "pygments_lexer": "ipython3",
   "version": "3.9.6"
  }
 },
 "nbformat": 4,
 "nbformat_minor": 5
}
