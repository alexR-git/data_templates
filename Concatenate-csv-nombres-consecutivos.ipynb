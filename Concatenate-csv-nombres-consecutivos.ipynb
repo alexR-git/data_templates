{
 "cells": [
  {
   "cell_type": "code",
   "execution_count": null,
   "id": "fc11ac0c",
   "metadata": {},
   "outputs": [],
   "source": [
    "import pandas as pd"
   ]
  },
  {
   "cell_type": "code",
   "execution_count": null,
   "id": "2ef89e5d",
   "metadata": {},
   "outputs": [],
   "source": [
    "# primer archivo de la colección\n",
    "datapath = '[ruta del primer archivo]'"
   ]
  },
  {
   "cell_type": "code",
   "execution_count": null,
   "id": "1cfe1154",
   "metadata": {},
   "outputs": [],
   "source": [
    "data = pd.read_csv(datapath)"
   ]
  },
  {
   "cell_type": "code",
   "execution_count": null,
   "id": "16edc917",
   "metadata": {},
   "outputs": [],
   "source": [
    "# Comprobación de la estructura del primer dataset\n",
    "data.head()"
   ]
  },
  {
   "cell_type": "code",
   "execution_count": null,
   "id": "3ff86ea9",
   "metadata": {},
   "outputs": [],
   "source": [
    "# Comprobación de la forma del primer dataset\n",
    "data.shape"
   ]
  },
  {
   "cell_type": "code",
   "execution_count": null,
   "id": "60fa190f",
   "metadata": {},
   "outputs": [],
   "source": [
    "## Generación del dataset a partir de un directorio con .csv con nombres de archivo consecutivos\n",
    "datafolder = '[path del folder con los datasets]'\n",
    "filename = '[nombreprimerarchivo].csv'\n",
    "\n",
    "data = pd.read_csv(datafolder + filename)\n",
    "\n",
    "final_lenght = len(data)\n",
    "\n",
    "## Recorrido y concatenado de todos los .csv\n",
    "for i in range(2, númerototaldearchivoscsv):\n",
    "    \n",
    "    if i < 10:\n",
    "        filename = '00' + str(i)\n",
    "    if 10 <= i < 100:\n",
    "        filename = '0' + str(i)\n",
    "    if i > 100:\n",
    "        filename = str(i)\n",
    "    \n",
    "    data_temp = pd.read_csv(datafolder + filename + '.csv')\n",
    "    final_lenght = final_lenght + len(data_temp)    \n",
    "    data = pd.concat([data, data_temp], axis=0)\n",
    "\n",
    "if final_lenght == len(data):\n",
    "    print('La suma de las longitudes parciales de los datasets es:', final_lenght)\n",
    "    print('La longitud del dataset es:', len(data))\n",
    "    print('No se ha perdido ninguna muestra')\n",
    "else:\n",
    "    print('La suma de las longitudes parciales de los datasets es:', final_lenght)\n",
    "    print('La longitud del dataset es:', len(data))\n",
    "    print('Ha habido algún problema y se han perdido muestras')"
   ]
  },
  {
   "cell_type": "code",
   "execution_count": null,
   "id": "2a53136f",
   "metadata": {},
   "outputs": [],
   "source": [
    "# Comprobación de la forma del dataset completo\n",
    "data.shape"
   ]
  },
  {
   "cell_type": "code",
   "execution_count": null,
   "id": "b0e73a34",
   "metadata": {},
   "outputs": [],
   "source": [
    "# Comprobación de la cabecera del dataset completo\n",
    "data.head()"
   ]
  },
  {
   "cell_type": "code",
   "execution_count": null,
   "id": "cafdb4b0",
   "metadata": {},
   "outputs": [],
   "source": [
    "# Comprobación de la cola del dataset completo\n",
    "data.tail()"
   ]
  }
 ],
 "metadata": {
  "kernelspec": {
   "display_name": "Python 3",
   "language": "python",
   "name": "python3"
  },
  "language_info": {
   "codemirror_mode": {
    "name": "ipython",
    "version": 3
   },
   "file_extension": ".py",
   "mimetype": "text/x-python",
   "name": "python",
   "nbconvert_exporter": "python",
   "pygments_lexer": "ipython3",
   "version": "3.9.6"
  }
 },
 "nbformat": 4,
 "nbformat_minor": 5
}
