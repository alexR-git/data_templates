{
 "cells": [
  {
   "cell_type": "code",
   "execution_count": null,
   "id": "f70e8000",
   "metadata": {},
   "outputs": [],
   "source": [
    "import pandas as pd\n",
    "import os"
   ]
  },
  {
   "cell_type": "code",
   "execution_count": null,
   "id": "09596f8d",
   "metadata": {},
   "outputs": [],
   "source": [
    "folder = '[folderpath]'\n",
    "\n",
    "# Creación del dataframe\n",
    "data = pd.DataFrame()\n",
    "\n",
    "# Lectura del directorio: retorna lista de strings con los nombres de los archivos del directorio\n",
    "filepaths = os.listdir(folder)\n",
    "\n",
    "for file in filepaths:\n",
    "    data_temp = pd.read_csv(folder + file)\n",
    "    data = pd.concat([data, data_temp], axis=0)"
   ]
  },
  {
   "cell_type": "code",
   "execution_count": null,
   "id": "5ffccc43",
   "metadata": {},
   "outputs": [],
   "source": [
    "# Comprobación de la cabecera\n",
    "data.head()"
   ]
  },
  {
   "cell_type": "code",
   "execution_count": null,
   "id": "22169cae",
   "metadata": {},
   "outputs": [],
   "source": [
    "# Comprobación de la cola\n",
    "data.tail()"
   ]
  },
  {
   "cell_type": "code",
   "execution_count": null,
   "id": "407699df",
   "metadata": {},
   "outputs": [],
   "source": [
    "# Comprobación de la estructura\n",
    "data.shape"
   ]
  }
 ],
 "metadata": {
  "kernelspec": {
   "display_name": "Python 3",
   "language": "python",
   "name": "python3"
  },
  "language_info": {
   "codemirror_mode": {
    "name": "ipython",
    "version": 3
   },
   "file_extension": ".py",
   "mimetype": "text/x-python",
   "name": "python",
   "nbconvert_exporter": "python",
   "pygments_lexer": "ipython3",
   "version": "3.9.6"
  }
 },
 "nbformat": 4,
 "nbformat_minor": 5
}
